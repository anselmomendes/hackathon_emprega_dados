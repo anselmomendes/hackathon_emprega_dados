{
 "cells": [
  {
   "cell_type": "code",
   "execution_count": 104,
   "metadata": {},
   "outputs": [],
   "source": [
    "import pandas as pd"
   ]
  },
  {
   "cell_type": "code",
   "execution_count": 102,
   "metadata": {},
   "outputs": [],
   "source": [
    "spreadsheet_id = \"1cucnW4yVosO5n5BFgwXYv6rVy8yj6NTasM83RTCMOug\"\n",
    "sheet_ids = {\"receita\":\"373473243\", \"despesas\":\"1859279676\", \"financeiro_mensal\":\"1703092343\", \"financeiro_anual\":\"1751304186\", \"plr\":\"835809915\"}"
   ]
  },
  {
   "cell_type": "code",
   "execution_count": 103,
   "metadata": {},
   "outputs": [
    {
     "name": "stdout",
     "output_type": "stream",
     "text": [
      "https://docs.google.com/spreadsheets/d/1cucnW4yVosO5n5BFgwXYv6rVy8yj6NTasM83RTCMOug/export?format=csv&gid=373473243\n",
      "https://docs.google.com/spreadsheets/d/1cucnW4yVosO5n5BFgwXYv6rVy8yj6NTasM83RTCMOug/export?format=csv&gid=1859279676\n",
      "https://docs.google.com/spreadsheets/d/1cucnW4yVosO5n5BFgwXYv6rVy8yj6NTasM83RTCMOug/export?format=csv&gid=1703092343\n",
      "https://docs.google.com/spreadsheets/d/1cucnW4yVosO5n5BFgwXYv6rVy8yj6NTasM83RTCMOug/export?format=csv&gid=1751304186\n",
      "https://docs.google.com/spreadsheets/d/1cucnW4yVosO5n5BFgwXYv6rVy8yj6NTasM83RTCMOug/export?format=csv&gid=835809915\n"
     ]
    }
   ],
   "source": [
    "for key in sheet_ids.keys():\n",
    "    url = f\"https://docs.google.com/spreadsheets/d/{spreadsheet_id}/export?format=csv&gid={sheet_ids[key]}\"\n",
    "    print(url)\n",
    "    df = pd.read_csv(url)\n",
    "    df.to_csv(\"base_1_\" + key + \".csv\", sep=\";\")"
   ]
  }
 ],
 "metadata": {
  "kernelspec": {
   "display_name": "Python 3",
   "language": "python",
   "name": "python3"
  },
  "language_info": {
   "codemirror_mode": {
    "name": "ipython",
    "version": 3
   },
   "file_extension": ".py",
   "mimetype": "text/x-python",
   "name": "python",
   "nbconvert_exporter": "python",
   "pygments_lexer": "ipython3",
   "version": "3.9.2rc1"
  }
 },
 "nbformat": 4,
 "nbformat_minor": 2
}
